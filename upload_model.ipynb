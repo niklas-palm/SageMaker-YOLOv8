{
 "cells": [
  {
   "cell_type": "code",
   "execution_count": null,
   "metadata": {},
   "outputs": [],
   "source": [
    "import tarfile\n",
    "import gzip\n",
    "import boto3\n",
    "\n",
    "from ultralytics import YOLO\n",
    "\n",
    "# Define the name of the bucket where you want to upload the model weights\n",
    "bucket_name = 'mlbucket13'"
   ]
  },
  {
   "cell_type": "markdown",
   "metadata": {},
   "source": [
    "### Download model weights"
   ]
  },
  {
   "cell_type": "code",
   "execution_count": null,
   "metadata": {},
   "outputs": [],
   "source": [
    "YOLO('yolov8l.pt')"
   ]
  },
  {
   "cell_type": "markdown",
   "metadata": {},
   "source": [
    "### Create gzipped archive and upload to S3"
   ]
  },
  {
   "cell_type": "code",
   "execution_count": null,
   "metadata": {},
   "outputs": [],
   "source": [
    "# Path to the YOLO model weights file\n",
    "weights_file = \"yolov8l.pt\"\n",
    "\n",
    "# Path to save the gzipped tar archive\n",
    "tar_name = \"model.tar.gz\"\n",
    "\n",
    "# Create a gzipped tar archive\n",
    "with tarfile.open(tar_name, \"w:gz\") as tar:\n",
    "    # Add the YOLO model weights file to the archive\n",
    "    tar.add(weights_file, arcname=\"yolov8l.pt\")"
   ]
  },
  {
   "cell_type": "markdown",
   "metadata": {},
   "source": [
    "### Upload to s3\n",
    "Make note of the S3 uri"
   ]
  },
  {
   "cell_type": "code",
   "execution_count": null,
   "metadata": {},
   "outputs": [],
   "source": [
    "# Set up Boto3 client for S3\n",
    "s3 = boto3.client('s3')\n",
    "\n",
    "# Define the file path of the file to upload\n",
    "file_path = tar_name\n",
    "\n",
    "# Define the key (i.e., object name) under which you want to store the file in the bucket\n",
    "key = f'yolov8/{tar_name}'\n",
    "\n",
    "# Upload the file to S3\n",
    "try:\n",
    "    s3.upload_file(file_path, bucket_name, key)\n",
    "    print(\"File uploaded successfully to:\")\n",
    "    print(f\"s3://{bucket_name}/{key}\")\n",
    "except Exception as e:\n",
    "    print(f\"Error uploading file: {e}\")"
   ]
  }
 ],
 "metadata": {
  "kernelspec": {
   "display_name": ".venv",
   "language": "python",
   "name": "python3"
  },
  "language_info": {
   "codemirror_mode": {
    "name": "ipython",
    "version": 3
   },
   "file_extension": ".py",
   "mimetype": "text/x-python",
   "name": "python",
   "nbconvert_exporter": "python",
   "pygments_lexer": "ipython3",
   "version": "3.9.6"
  }
 },
 "nbformat": 4,
 "nbformat_minor": 2
}
