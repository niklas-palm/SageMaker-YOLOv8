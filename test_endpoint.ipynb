{
 "cells": [
  {
   "cell_type": "code",
   "execution_count": null,
   "metadata": {},
   "outputs": [],
   "source": [
    "import boto3\n",
    "import io\n",
    "import json\n",
    "import random\n",
    "\n",
    "\n",
    "from PIL import Image, ImageDraw, ImageFont\n",
    "\n",
    "sagemaker_runtime = boto3.client('sagemaker-runtime') # Set up SageMaker client to invoke endpoint\n",
    "\n",
    "ENDPOINT_NAME = 'MY ENDPOINT NAME' # Name of SageMaker endpoint (realtime or serverless)\n",
    "ASYNC_ENDPOINT_NAME = 'MY ASYNC ENDPOINT NAME' # Name of async SageMaker endpoint\n",
    "MY_BUCKET = 'mlbucket13' # S3 Bucket to hold async payload\n",
    "KEY = 'yolov9/async/input/image.jpg' # S3 Key to where async payload will be uploaded.\n",
    "\n",
    "image_path = './assets/dogs.jpg' # Path to image\n",
    "# image_path = './assets/people.jpg' # Path to image\n"
   ]
  },
  {
   "cell_type": "markdown",
   "metadata": {},
   "source": [
    "### Original image"
   ]
  },
  {
   "cell_type": "code",
   "execution_count": null,
   "metadata": {},
   "outputs": [],
   "source": [
    "image_pil = Image.open(image_path)\n",
    "display(image_pil)"
   ]
  },
  {
   "cell_type": "markdown",
   "metadata": {},
   "source": [
    "### Encode image and send to the endpoint (Realtime / serverless)"
   ]
  },
  {
   "cell_type": "code",
   "execution_count": null,
   "metadata": {},
   "outputs": [],
   "source": [
    "image_bytes = io.BytesIO()\n",
    "image_pil.save(image_bytes, format='JPEG')\n",
    "image_bytes.seek(0)\n",
    "payload = image_bytes.read()"
   ]
  },
  {
   "cell_type": "code",
   "execution_count": null,
   "metadata": {},
   "outputs": [],
   "source": [
    "%%time\n",
    "# Invoke SageMaker endpoint\n",
    "res = sagemaker_runtime.invoke_endpoint(\n",
    "    EndpointName=ENDPOINT_NAME, \n",
    "    ContentType='image/jpeg',  # Specify the correct content type for image\n",
    "    Body=payload  # Pass the image bytes directly\n",
    ")\n",
    "res = res['Body'].read().decode()\n",
    "\n",
    "bounding_boxes = json.loads(res)['bounding_boxes']"
   ]
  },
  {
   "cell_type": "markdown",
   "metadata": {},
   "source": [
    "#### Async invoke"
   ]
  },
  {
   "cell_type": "code",
   "execution_count": null,
   "metadata": {},
   "outputs": [],
   "source": [
    "# Upload payload to s3\n",
    "\n",
    "s3 = boto3.client('s3')\n",
    "\n",
    "s3.put_object(Bucket=MY_BUCKET, Key=KEY, Body=payload)\n",
    "\n",
    "s3_input_uri = f's3://{MY_BUCKET}/{KEY}'"
   ]
  },
  {
   "cell_type": "code",
   "execution_count": null,
   "metadata": {},
   "outputs": [],
   "source": [
    "# Invoke async endpoint\n",
    "\n",
    "async_response = sagemaker_runtime.invoke_endpoint_async(\n",
    "        EndpointName=ASYNC_ENDPOINT_NAME, \n",
    "        InputLocation=s3_input_uri,\n",
    "        InvocationTimeoutSeconds=3600\n",
    "        )"
   ]
  },
  {
   "cell_type": "code",
   "execution_count": null,
   "metadata": {},
   "outputs": [],
   "source": [
    "# Fetch and parse async inference result from S3\n",
    "\n",
    "from urllib.parse import urlparse\n",
    "\n",
    "output_s3_uri = async_response['OutputLocation']\n",
    "\n",
    "# Parse the S3 URI to extract bucket name and object key\n",
    "parsed_uri = urlparse(output_s3_uri)\n",
    "bucket_name = parsed_uri.netloc\n",
    "object_key = parsed_uri.path.lstrip('/')\n",
    "\n",
    "# Read the object directly into memory\n",
    "response = s3.get_object(Bucket=bucket_name, Key=object_key)\n",
    "data = response['Body'].read().decode()\n",
    "data = json.loads(data)\n",
    "data"
   ]
  },
  {
   "cell_type": "markdown",
   "metadata": {},
   "source": [
    "### Draw bounding boxes"
   ]
  },
  {
   "cell_type": "code",
   "execution_count": null,
   "metadata": {},
   "outputs": [],
   "source": [
    "class_map = {\n",
    "    0: 'person',\n",
    "    1: 'bicycle',\n",
    "    2: 'car',\n",
    "    3: 'motorcycle',\n",
    "    4: 'airplane',\n",
    "    5: 'bus',\n",
    "    6: 'train',\n",
    "    7: 'truck',\n",
    "    8: 'boat',\n",
    "    9: 'traffic light',\n",
    "    10: 'fire hydrant',\n",
    "    11: 'stop sign',\n",
    "    12: 'parking meter',\n",
    "    13: 'bench',\n",
    "    14: 'bird',\n",
    "    15: 'cat',\n",
    "    16: 'dog',\n",
    "    17: 'horse',\n",
    "    18: 'sheep',\n",
    "    19: 'cow',\n",
    "    20: 'elephant',\n",
    "    21: 'bear',\n",
    "    22: 'zebra',\n",
    "    23: 'giraffe',\n",
    "    24: 'backpack',\n",
    "    25: 'umbrella',\n",
    "    26: 'handbag',\n",
    "    27: 'tie',\n",
    "    28: 'suitcase',\n",
    "    29: 'frisbee',\n",
    "    30: 'skis',\n",
    "    31: 'snowboard',\n",
    "    32: 'sports ball',\n",
    "    33: 'kite',\n",
    "    34: 'baseball bat',\n",
    "    35: 'baseball glove',\n",
    "    36: 'skateboard',\n",
    "    37: 'surfboard',\n",
    "    38: 'tennis racket',\n",
    "    39: 'bottle',\n",
    "    40: 'wine glass',\n",
    "    41: 'cup',\n",
    "    42: 'fork',\n",
    "    43: 'knife',\n",
    "    44: 'spoon',\n",
    "    45: 'bowl',\n",
    "    46: 'banana',\n",
    "    47: 'apple',\n",
    "    48: 'sandwich',\n",
    "    49: 'orange',\n",
    "    50: 'broccoli',\n",
    "    51: 'carrot',\n",
    "    52: 'hot dog',\n",
    "    53: 'pizza',\n",
    "    54: 'donut',\n",
    "    55: 'cake',\n",
    "    56: 'chair',\n",
    "    57: 'couch',\n",
    "    58: 'potted plant',\n",
    "    59: 'bed',\n",
    "    60: 'dining table',\n",
    "    61: 'toilet',\n",
    "    62: 'tv',\n",
    "    63: 'laptop',\n",
    "    64: 'mouse',\n",
    "    65: 'remote',\n",
    "    66: 'keyboard',\n",
    "    67: 'cell phone',\n",
    "    68: 'microwave',\n",
    "    69: 'oven',\n",
    "    70: 'toaster',\n",
    "    71: 'sink',\n",
    "    72: 'refrigerator',\n",
    "    73: 'book',\n",
    "    74: 'clock',\n",
    "    75: 'vase',\n",
    "    76: 'scissors',\n",
    "    77: 'teddy bear',\n",
    "    78: 'hair drier',\n",
    "    79: 'toothbrush'\n",
    "}"
   ]
  },
  {
   "cell_type": "code",
   "execution_count": null,
   "metadata": {},
   "outputs": [],
   "source": [
    "def draw_bounding_boxes(image_path, bounding_boxes, min_confidence=0.4):\n",
    "\n",
    "    # Method to get colors for different classes\n",
    "    def get_color(color_map, key):\n",
    "        # Check if the key already has a color assigned\n",
    "        if key in color_map:\n",
    "            return color_map[key]\n",
    "        else:\n",
    "            # Generate a random color\n",
    "            color = (random.randint(0, 255), random.randint(50, 200), random.randint(50, 200))\n",
    "            # Assign the random color to the key\n",
    "            color_map[key] = color\n",
    "            return color\n",
    "\n",
    "    \n",
    "    # Keep track of class colors\n",
    "    color_map = {}\n",
    "\n",
    "    # Open the image using PIL\n",
    "    image = Image.open(image_path)\n",
    "    \n",
    "    # Create a drawing object\n",
    "    draw = ImageDraw.Draw(image)\n",
    "\n",
    "    # Load a font\n",
    "    font_size = 48\n",
    "    font = ImageFont.load_default(font_size)\n",
    "\n",
    "    # Draw bounding boxes on the image\n",
    "    for box in bounding_boxes:\n",
    "        left, top, right, bottom, confidence, class_id = box\n",
    "\n",
    "        # Get color for the class\n",
    "        color = get_color(color_map, class_id)\n",
    "\n",
    "        # If confidence is below the minimum threshold, skip the bounding box\n",
    "        if confidence < min_confidence:\n",
    "            continue\n",
    "\n",
    "        box_coords = [(left, top), (right, top), (right, bottom), (left, bottom), (left, top)]\n",
    "        draw.line(box_coords, fill=color, width=4)\n",
    "\n",
    "        # Get class name and create text label\n",
    "        class_name = class_map[int(class_id)]\n",
    "        text = f\"{class_name}: {round(confidence,2)}\"\n",
    "        \n",
    "        # Get size of text\n",
    "        (width, baseline), (offset_x, offset_y) = font.font.getsize(text)\n",
    "\n",
    "        # Draw class name at the top left corner of the bounding box\n",
    "        draw.rectangle([left, top, left + width, top + font_size+5], fill=color)\n",
    "        draw.text((left, top), text, fill='white', font=font)\n",
    "    \n",
    "    # Display the image\n",
    "    display(image)\n",
    "\n",
    "draw_bounding_boxes(image_path, bounding_boxes, 0.1)"
   ]
  },
  {
   "cell_type": "code",
   "execution_count": null,
   "metadata": {},
   "outputs": [],
   "source": []
  },
  {
   "cell_type": "code",
   "execution_count": null,
   "metadata": {},
   "outputs": [],
   "source": []
  }
 ],
 "metadata": {
  "kernelspec": {
   "display_name": ".venv",
   "language": "python",
   "name": "python3"
  },
  "language_info": {
   "codemirror_mode": {
    "name": "ipython",
    "version": 3
   },
   "file_extension": ".py",
   "mimetype": "text/x-python",
   "name": "python",
   "nbconvert_exporter": "python",
   "pygments_lexer": "ipython3",
   "version": "3.9.6"
  }
 },
 "nbformat": 4,
 "nbformat_minor": 2
}
